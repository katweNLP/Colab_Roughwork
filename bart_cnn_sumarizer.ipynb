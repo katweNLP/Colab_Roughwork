{
  "nbformat": 4,
  "nbformat_minor": 0,
  "metadata": {
    "colab": {
      "name": "bart_cnn_sumarizer.ipynb",
      "provenance": [],
      "authorship_tag": "ABX9TyNgDz7K+hPHsBN6fuKLVH3L",
      "include_colab_link": true
    },
    "kernelspec": {
      "name": "python3",
      "display_name": "Python 3"
    },
    "language_info": {
      "name": "python"
    }
  },
  "cells": [
    {
      "cell_type": "markdown",
      "metadata": {
        "id": "view-in-github",
        "colab_type": "text"
      },
      "source": [
        "<a href=\"https://colab.research.google.com/github/katweNLP/Colab_Roughwork/blob/main/bart_cnn_sumarizer.ipynb\" target=\"_parent\"><img src=\"https://colab.research.google.com/assets/colab-badge.svg\" alt=\"Open In Colab\"/></a>"
      ]
    },
    {
      "cell_type": "code",
      "metadata": {
        "id": "jLYMBfUI7gOK"
      },
      "source": [
        "!pip install transformers datasets"
      ],
      "execution_count": null,
      "outputs": []
    },
    {
      "cell_type": "code",
      "metadata": {
        "colab": {
          "base_uri": "https://localhost:8080/"
        },
        "id": "LyKJ2sMD7raw",
        "outputId": "7c55a101-9b5c-4816-8183-9e7d4fd8cacb"
      },
      "source": [
        "from transformers import BartTokenizer, BartForConditionalGeneration, BartConfig\n",
        "model=BartForConditionalGeneration.from_pretrained('facebook/bart-large-cnn')\n",
        "tokenizer=BartTokenizer.from_pretrained('facebook/bart-large-cnn')\n",
        "\n",
        "#Article_to_summarize=\"At the grand old age of 75, Jack Nicklaus is still capable of hitting aces. The Golden Bear added another magic moment to his storied career at Augusta National in the Par-3 Contest. Stepping up to the tee on the 130-yard fourth, the greatest golfer of all time saw his shot sail beyond the flag before spinning back into the hole. Jack Nicklaus gave the crowd something to cheer with a hole in one on the fourth during the Par-3 Contest. Nicklaus holds up his ball to an adoring crowd as Gary Player (left) and Ben Crenshaw salute the great. Crenshaw and Nicklaus fist pump following his ace on the 130-yard hole at Augusta National. Nicklaus was playing alongside Gary Player and Ben Crenshaw as the first roar of Masters week filled the skies in a sunswept Georgia. ’I had an interview this morning, and I said \\\"well, all I’ve got to do is go out and win the Par-3 and make a hole and one\\\", and I make a hole in one,’ Nicklaus said afterwards. . The ace was Nicklaus’ first on the hallowed turf of Augusta, but the veteran saw his achievement eclipsed by that of Camilo Villegas on a day which saw five hole-in-ones, levelling the record from 2002. The Colombian followed Nicklaus with an ace on the fourth and also managed one on the eighth, but he couldn’t quite land the title, losing out to world No 74 Kevin Streelman in a play-off. Nicklaus became the youngest person to wear a green jacket in 1963, and collected his sixth in 1986. He is one of five men to complete the career grand slam, an accolade which favourite Rory McIlroy can achieve if he wins his third major in succession.\"\n",
        "#Article_to_summarize=\"He was re-elected for a second term by the UN General Assembly, unopposed and unanimously, on 21 June 2011, with effect from 1 January 2012. Mr. Ban describes his priorities as mobilising world leaders to deal with climate change, economic upheaval, pandemics and increasing pressures involving food, energy and water\"\n",
        "#Article_to_summarize=\"China has denounced Taiwan’s national day speech, during which President Tsai Ing-wen said her government will not bow down to pressure from Beijing and will continue to bolster the island’s defences in order to protect its democratic way of life.China’s Taiwan Affairs Office said on Sunday that Tsai’s speech incited confrontation and distorted facts, adding that seeking Taiwan independence closes the door to dialogue. Beijing considers Taiwan a breakaway province. Tsai’s strong words on Sunday came a day after Chinese President Xi Jinping promised once again to realise \\\"peaceful reunification\\\" with the self-ruled territory.\\\"No one should underestimate the Chinese people’s strong determination, will and capability to safeguard national sovereignty and territorial integrity,\\\" Xi had said.Speaking earlier on Sunday, Tsai said Taiwan will keep bolstering its defences to ensure nobody can force the island to accept the path China has laid down, offering neither freedom nor democracy, and repeated a call for talks with Beijing.\"\n",
        "Article_to_summarize=\"Ban Ki-moon is the eighth secretary-general of the United Nations.He was re-elected for a second term by the UN General Assembly, unopposed and unanimously, on 21 June 2011, with effect from 1 January 2012.Mr Ban describes his priorities as mobilising world leaders to deal with climate change, economic upheaval, pandemics and increasing pressures involving food, energy and water.In style, he prefers quiet diplomacy and sees himself as a bridge-builder, aiming to give voice to the world's poorest and most vulnerable people, and to strengthen the UN itself, which was dented when he took office by scandals over the UN oil-for-food programme in Iraq, and corrupt procurement.The South Korean diplomat took over from Kofi Annan at the UN in 2007.At that time he promised to push for peace in the Middle East and Sudan's Darfur region, and he prioritised climate change.\"\n",
        "inputs = tokenizer([Article_to_summarize],return_tensors=\"pt\")\n",
        "\n",
        "summary_ids=model.generate(inputs['input_ids'],max_length=1000,early_stopping= False)\n",
        "\n",
        "\n",
        "print(Article_to_summarize)\n",
        "print(summary_ids)\n",
        "\n",
        "print(tokenizer.decode(g,skip_special_token=true ) for g in summary_ids)\n",
        "\n",
        "\n"
      ],
      "execution_count": null,
      "outputs": [
        {
          "output_type": "stream",
          "name": "stdout",
          "text": [
            "Ban Ki-moon is the eighth secretary-general of the United Nations.He was re-elected for a second term by the UN General Assembly, unopposed and unanimously, on 21 June 2011, with effect from 1 January 2012.Mr Ban describes his priorities as mobilising world leaders to deal with climate change, economic upheaval, pandemics and increasing pressures involving food, energy and water.In style, he prefers quiet diplomacy and sees himself as a bridge-builder, aiming to give voice to the world's poorest and most vulnerable people, and to strengthen the UN itself, which was dented when he took office by scandals over the UN oil-for-food programme in Iraq, and corrupt procurement.The South Korean diplomat took over from Kofi Annan at the UN in 2007.At that time he promised to push for peace in the Middle East and Sudan's Darfur region, and he prioritised climate change.\n",
            "tensor([[    2,     0, 33809, 11488,    12, 16956,    16,     5,  4413,  2971,\n",
            "            12, 15841,     9,     5,   315,  3076,     4,    91,    21,   769,\n",
            "            12, 15672,    13,    10,   200,  1385,    30,     5,  2604,  1292,\n",
            "          3389,     6,   542, 10223,  7878,     8, 12008,     6,    15,   733,\n",
            "           502,  1466,     6,    19,  1683,    31,   112,   644,  1125,     4,\n",
            "           427,  5981,  7448,    39,  7532,    25, 16559,  3009,   232,   917,\n",
            "             7,   432,    19,  2147,   464,     6,   776, 29145,     6, 23387,\n",
            "           991,  2857,     8,  2284,  9985,  3329,   689,     6,  1007,     8,\n",
            "           514,     4,    96,  2496,     6,    37, 20618,  5128, 15166,     8,\n",
            "          3681,  1003,    25,    10,  4081,    12, 30511,     6,  9998,     7,\n",
            "           492,  2236,     7,     5,   232,    18, 19125,     8,   144,  4478,\n",
            "            82,     4,     2]])\n",
            "<generator object <genexpr> at 0x7fb4e1cadc50>\n"
          ]
        }
      ]
    },
    {
      "cell_type": "code",
      "metadata": {
        "colab": {
          "base_uri": "https://localhost:8080/"
        },
        "id": "KAxFsrR4AYWK",
        "outputId": "c575d35d-daa0-4895-ed89-83ec54f40056"
      },
      "source": [
        "print(tokenizer.decode(summary_ids[0]))"
      ],
      "execution_count": null,
      "outputs": [
        {
          "output_type": "stream",
          "name": "stdout",
          "text": [
            "</s><s>Ban Ki-moon is the eighth secretary-general of the United Nations. He was re-elected for a second term by the UN General Assembly, unopposed and unanimously, on 21 June 2011, with effect from 1 January 2012. Mr Ban describes his priorities as mobilising world leaders to deal with climate change, economic upheaval, pandemics and increasing pressures involving food, energy and water. In style, he prefers quiet diplomacy and sees himself as a bridge-builder, aiming to give voice to the world's poorest and most vulnerable people.</s>\n"
          ]
        }
      ]
    }
  ]
}